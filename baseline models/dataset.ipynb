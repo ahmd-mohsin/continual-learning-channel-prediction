{
 "cells": [
  {
   "cell_type": "code",
   "execution_count": null,
   "metadata": {},
   "outputs": [
    {
     "name": "stdout",
     "output_type": "stream",
     "text": [
      "torch.Size([4, 5, 10])\n",
      "torch.Size([4, 1])\n"
     ]
    }
   ],
   "source": [
    "import torch\n",
    "from torch.utils.mobile_optimizer import optimize_for_mobile\n",
    "\n",
    "# Example LSTM model\n",
    "class LSTMModel(torch.nn.Module):\n",
    "    def __init__(self, input_size, hidden_size, num_layers, output_size):\n",
    "        super(LSTMModel, self).__init__()\n",
    "        self.lstm = torch.nn.LSTM(input_size, hidden_size, num_layers, batch_first=True)\n",
    "        self.fc = torch.nn.Linear(hidden_size, output_size)\n",
    "\n",
    "    def forward(self, x):\n",
    "        h_0 = torch.zeros(num_layers, x.size(0), hidden_size)\n",
    "        c_0 = torch.zeros(num_layers, x.size(0), hidden_size)\n",
    "        out, _ = self.lstm(x, (h_0, c_0))\n",
    "        out = self.fc(out[:, -1, :])\n",
    "        return out\n",
    "\n",
    "# Initialize and train your model\n",
    "input_size = 10\n",
    "hidden_size = 20\n",
    "num_layers = 2\n",
    "output_size = 1\n",
    "model = LSTMModel(input_size, hidden_size, num_layers, output_size)\n",
    "\n",
    "# Define model parameters\n",
    "input_size = 10\n",
    "sequence_length = 3000\n",
    "batch_size = 4\n",
    "\n",
    "# Create a sample input tensor\n",
    "sample_input = torch.randn(batch_size, sequence_length, input_size)\n",
    "\n",
    "# Initialize the LSTM model\n",
    "hidden_size = 20\n",
    "num_layers = 2\n",
    "output_size = 1\n",
    "\n",
    "# Get the model's output for the sample input\n",
    "model.eval()  # Set to evaluation mode\n",
    "with torch.no_grad():\n",
    "    sample_output = model(sample_input)\n",
    "\n",
    "# Display sample input and output\n",
    "sample_input, sample_output\n",
    "print(sample_input.shape)\n",
    "print(sample_output.shape)\n",
    "\n",
    "# # Dummy input for tracing\n",
    "# example_input = torch.rand(1, 5, input_size)\n",
    "\n",
    "# # Convert to TorchScript\n",
    "# traced_script_module = torch.jit.trace(model, example_input)\n",
    "\n",
    "# # Optimize for mobile\n",
    "# optimized_traced_model = optimize_for_mobile(traced_script_module)\n",
    "\n",
    "# # Save the optimized model\n",
    "# optimized_traced_model._save_for_lite_interpreter(\"optimized_lstm_model.ptl\")\n"
   ]
  },
  {
   "cell_type": "code",
   "execution_count": null,
   "metadata": {},
   "outputs": [],
   "source": []
  }
 ],
 "metadata": {
  "kernelspec": {
   "display_name": ".venv",
   "language": "python",
   "name": "python3"
  },
  "language_info": {
   "codemirror_mode": {
    "name": "ipython",
    "version": 3
   },
   "file_extension": ".py",
   "mimetype": "text/x-python",
   "name": "python",
   "nbconvert_exporter": "python",
   "pygments_lexer": "ipython3",
   "version": "3.12.4"
  }
 },
 "nbformat": 4,
 "nbformat_minor": 2
}
