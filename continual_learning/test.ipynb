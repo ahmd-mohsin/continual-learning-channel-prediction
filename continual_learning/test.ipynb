{
 "cells": [
  {
   "cell_type": "code",
   "execution_count": 2,
   "id": "784457c8",
   "metadata": {},
   "outputs": [
    {
     "ename": "ImportError",
     "evalue": "attempted relative import with no known parent package",
     "output_type": "error",
     "traceback": [
      "\u001b[0;31m---------------------------------------------------------------------------\u001b[0m",
      "\u001b[0;31mImportError\u001b[0m                               Traceback (most recent call last)",
      "\u001b[0;32m<ipython-input-2-0e80a0c3c5d5>\u001b[0m in \u001b[0;36m<module>\u001b[0;34m\u001b[0m\n\u001b[0;32m----> 1\u001b[0;31m \u001b[0;32mfrom\u001b[0m \u001b[0;34m.\u001b[0m\u001b[0;34m.\u001b[0m\u001b[0mbaseline_models\u001b[0m\u001b[0;34m.\u001b[0m\u001b[0mmodel\u001b[0m \u001b[0;32mimport\u001b[0m \u001b[0;34m*\u001b[0m\u001b[0;34m\u001b[0m\u001b[0;34m\u001b[0m\u001b[0m\n\u001b[0m",
      "\u001b[0;31mImportError\u001b[0m: attempted relative import with no known parent package"
     ]
    }
   ],
   "source": [
    "from ..baseline_models.model import *"
   ]
  },
  {
   "cell_type": "code",
   "execution_count": 11,
   "id": "6f9291b4",
   "metadata": {},
   "outputs": [
    {
     "name": "stdout",
     "output_type": "stream",
     "text": [
      "a 1\n"
     ]
    }
   ],
   "source": [
    "import torch\n",
    "probs = torch.tensor([0.2, 0.5, 0.3])\n",
    "a = torch.multinomial(probs, 1).item()\n",
    "\n",
    "\n",
    "print(\"a\", a)"
   ]
  },
  {
   "cell_type": "code",
   "execution_count": 12,
   "id": "247c3358",
   "metadata": {},
   "outputs": [
    {
     "ename": "AttributeError",
     "evalue": "'bool' object has no attribute 'view'",
     "output_type": "error",
     "traceback": [
      "\u001b[0;31m---------------------------------------------------------------------------\u001b[0m",
      "\u001b[0;31mAttributeError\u001b[0m                            Traceback (most recent call last)",
      "\u001b[0;32m<ipython-input-12-16d786fd592d>\u001b[0m in \u001b[0;36m<module>\u001b[0;34m\u001b[0m\n\u001b[1;32m      1\u001b[0m \u001b[0ma\u001b[0m \u001b[0;34m=\u001b[0m \u001b[0;32mTrue\u001b[0m\u001b[0;34m\u001b[0m\u001b[0;34m\u001b[0m\u001b[0m\n\u001b[1;32m      2\u001b[0m \u001b[0;34m\u001b[0m\u001b[0m\n\u001b[0;32m----> 3\u001b[0;31m \u001b[0mb\u001b[0m \u001b[0;34m=\u001b[0m \u001b[0ma\u001b[0m\u001b[0;34m.\u001b[0m\u001b[0mview\u001b[0m\u001b[0;34m(\u001b[0m\u001b[0;34m-\u001b[0m\u001b[0;36m1\u001b[0m\u001b[0;34m,\u001b[0m\u001b[0;36m1\u001b[0m\u001b[0;34m,\u001b[0m\u001b[0;36m1\u001b[0m\u001b[0;34m)\u001b[0m\u001b[0;34m\u001b[0m\u001b[0;34m\u001b[0m\u001b[0m\n\u001b[0m\u001b[1;32m      4\u001b[0m \u001b[0;34m\u001b[0m\u001b[0m\n\u001b[1;32m      5\u001b[0m \u001b[0mprint\u001b[0m\u001b[0;34m(\u001b[0m\u001b[0mb\u001b[0m\u001b[0;34m)\u001b[0m\u001b[0;34m\u001b[0m\u001b[0;34m\u001b[0m\u001b[0m\n",
      "\u001b[0;31mAttributeError\u001b[0m: 'bool' object has no attribute 'view'"
     ]
    }
   ],
   "source": [
    "a = True\n",
    "\n",
    "b = a.view(-1,1,1)\n",
    "\n",
    "print(b)"
   ]
  },
  {
   "cell_type": "code",
   "execution_count": 1,
   "id": "42957b66",
   "metadata": {},
   "outputs": [
    {
     "name": "stdout",
     "output_type": "stream",
     "text": [
      "Top-level keys: ['#refs#', 'cfg', 'channel_matrix']\n",
      "channel_matrix dataset shape: (256, 8, 18, 2, 500)\n",
      "channel_matrix dataset dtype: [('real', '<f4'), ('imag', '<f4')]\n",
      "channel_matrix shape: (256, 8, 18, 2, 500)\n",
      "Channel matrix real data (256, 8, 18, 2, 500)\n",
      "Channel matrix imag data (256, 8, 18, 2, 500)\n",
      "channel_matrix dtype: complex64\n"
     ]
    },
    {
     "ename": "NameError",
     "evalue": "name 'dataset' is not defined",
     "output_type": "error",
     "traceback": [
      "\u001b[0;31m---------------------------------------------------------------------------\u001b[0m",
      "\u001b[0;31mNameError\u001b[0m                                 Traceback (most recent call last)",
      "\u001b[0;32m<ipython-input-1-06c55b013d71>\u001b[0m in \u001b[0;36m<module>\u001b[0;34m\u001b[0m\n\u001b[1;32m     38\u001b[0m \u001b[0;34m\u001b[0m\u001b[0m\n\u001b[1;32m     39\u001b[0m \u001b[0;32mif\u001b[0m \u001b[0m__name__\u001b[0m \u001b[0;34m==\u001b[0m \u001b[0;34m\"__main__\"\u001b[0m\u001b[0;34m:\u001b[0m\u001b[0;34m\u001b[0m\u001b[0;34m\u001b[0m\u001b[0m\n\u001b[0;32m---> 40\u001b[0;31m     \u001b[0mtest_channel_dataset\u001b[0m\u001b[0;34m(\u001b[0m\u001b[0;34m)\u001b[0m\u001b[0;34m\u001b[0m\u001b[0;34m\u001b[0m\u001b[0m\n\u001b[0m",
      "\u001b[0;32m<ipython-input-1-06c55b013d71>\u001b[0m in \u001b[0;36mtest_channel_dataset\u001b[0;34m()\u001b[0m\n\u001b[1;32m     35\u001b[0m \u001b[0;34m\u001b[0m\u001b[0m\n\u001b[1;32m     36\u001b[0m \u001b[0;34m\u001b[0m\u001b[0m\n\u001b[0;32m---> 37\u001b[0;31m     \u001b[0;32mreturn\u001b[0m \u001b[0mdataset\u001b[0m\u001b[0;34m\u001b[0m\u001b[0;34m\u001b[0m\u001b[0m\n\u001b[0m\u001b[1;32m     38\u001b[0m \u001b[0;34m\u001b[0m\u001b[0m\n\u001b[1;32m     39\u001b[0m \u001b[0;32mif\u001b[0m \u001b[0m__name__\u001b[0m \u001b[0;34m==\u001b[0m \u001b[0;34m\"__main__\"\u001b[0m\u001b[0;34m:\u001b[0m\u001b[0;34m\u001b[0m\u001b[0;34m\u001b[0m\u001b[0m\n",
      "\u001b[0;31mNameError\u001b[0m: name 'dataset' is not defined"
     ]
    }
   ],
   "source": [
    "def test_channel_dataset():\n",
    "    import h5py\n",
    "    import numpy as np\n",
    "    import matplotlib.pyplot as plt\n",
    "    from sequence_loader import ChannelSequenceDataset\n",
    "\n",
    "    filename = '../dataset/outputs/umi_standard_8Tx_2Rx.mat'\n",
    "    with h5py.File(filename, \"r\") as f:\n",
    "        print(\"Top-level keys:\", list(f.keys()))\n",
    "        ds = f[\"channel_matrix\"]\n",
    "        print(\"channel_matrix dataset shape:\", ds.shape)\n",
    "        print(\"channel_matrix dataset dtype:\", ds.dtype)\n",
    "\n",
    "        # Check if dataset has compound dtype (typical for MATLAB complex arrays)\n",
    "        if ds.dtype.fields is not None and \"real\" in ds.dtype.fields and \"imag\" in ds.dtype.fields:\n",
    "            arr = ds[...]\n",
    "            real_data = arr[\"real\"]\n",
    "            imag_data = arr[\"imag\"]\n",
    "            channel_matrix = real_data + 1j * imag_data\n",
    "        else:\n",
    "            # If it's not a compound dataset with 'real'/'imag', try direct conversion\n",
    "            # (will fail if dtype=void or structured differently)\n",
    "            channel_matrix = np.array(ds)\n",
    "            if np.issubdtype(channel_matrix.dtype, np.void):\n",
    "                raise TypeError(\"channel_matrix has a void/structured dtype and cannot be directly converted.\")\n",
    "\n",
    "    print(\"channel_matrix shape:\", channel_matrix.shape)\n",
    "    print(\"Channel matrix real data\", real_data.shape) \n",
    "    print(\"Channel matrix imag data\", imag_data.shape)\n",
    "    print(\"channel_matrix dtype:\", channel_matrix.dtype)\n",
    "    # dataset = ChannelSequenceDataset(channel_matrix)\n",
    "    # print(f\"Dataset created with {len(dataset)} samples\")\n",
    "    # print(f\"Number of users: {dataset.num_users}\")\n",
    "    # print(f\"Time samples per user: {dataset.time_length}\")\n",
    "\n",
    "\n",
    "    return dataset\n",
    "\n",
    "if __name__ == \"__main__\":\n",
    "    test_channel_dataset()\n"
   ]
  },
  {
   "cell_type": "code",
   "execution_count": null,
   "id": "1ce5c6b7",
   "metadata": {},
   "outputs": [],
   "source": [
    "(256, 8, 18, 2, 500)"
   ]
  }
 ],
 "metadata": {
  "kernelspec": {
   "display_name": "task",
   "language": "python",
   "name": "python3"
  },
  "language_info": {
   "codemirror_mode": {
    "name": "ipython",
    "version": 3
   },
   "file_extension": ".py",
   "mimetype": "text/x-python",
   "name": "python",
   "nbconvert_exporter": "python",
   "pygments_lexer": "ipython3",
   "version": "3.9.20"
  }
 },
 "nbformat": 4,
 "nbformat_minor": 5
}
