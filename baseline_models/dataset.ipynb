{
 "cells": [
  {
   "cell_type": "code",
   "execution_count": null,
   "metadata": {},
   "outputs": [
    {
     "name": "stdout",
     "output_type": "stream",
     "text": [
      "torch.Size([4, 5, 10])\n",
      "torch.Size([4, 1])\n"
     ]
    }
   ],
   "source": [
    "import torch\n",
    "from torch.utils.mobile_optimizer import optimize_for_mobile\n",
    "\n",
    "# Example LSTM model\n",
    "class LSTMModel(torch.nn.Module):\n",
    "    def __init__(self, input_size, hidden_size, num_layers, output_size):\n",
    "        super(LSTMModel, self).__init__()\n",
    "        self.lstm = torch.nn.LSTM(input_size, hidden_size, num_layers, batch_first=True)\n",
    "        self.fc = torch.nn.Linear(hidden_size, output_size)\n",
    "\n",
    "    def forward(self, x):\n",
    "        h_0 = torch.zeros(num_layers, x.size(0), hidden_size)\n",
    "        c_0 = torch.zeros(num_layers, x.size(0), hidden_size)\n",
    "        out, _ = self.lstm(x, (h_0, c_0))\n",
    "        out = self.fc(out[:, -1, :])\n",
    "        return out\n",
    "\n",
    "# Initialize and train your model\n",
    "input_size = 10\n",
    "hidden_size = 20\n",
    "num_layers = 2\n",
    "output_size = 1\n",
    "model = LSTMModel(input_size, hidden_size, num_layers, output_size)\n",
    "\n",
    "# Define model parameters\n",
    "input_size = 10\n",
    "sequence_length = 3000\n",
    "batch_size = 4\n",
    "\n",
    "# Create a sample input tensor\n",
    "sample_input = torch.randn(batch_size, sequence_length, input_size)\n",
    "\n",
    "# Initialize the LSTM model\n",
    "hidden_size = 20\n",
    "num_layers = 2\n",
    "output_size = 1\n",
    "\n",
    "# Get the model's output for the sample input\n",
    "model.eval()  # Set to evaluation mode\n",
    "with torch.no_grad():\n",
    "    sample_output = model(sample_input)\n",
    "\n",
    "# Display sample input and output\n",
    "sample_input, sample_output\n",
    "print(sample_input.shape)\n",
    "print(sample_output.shape)\n",
    "\n",
    "# # Dummy input for tracing\n",
    "# example_input = torch.rand(1, 5, input_size)\n",
    "\n",
    "# # Convert to TorchScript\n",
    "# traced_script_module = torch.jit.trace(model, example_input)\n",
    "\n",
    "# # Optimize for mobile\n",
    "# optimized_traced_model = optimize_for_mobile(traced_script_module)\n",
    "\n",
    "# # Save the optimized model\n",
    "# optimized_traced_model._save_for_lite_interpreter(\"optimized_lstm_model.ptl\")\n"
   ]
  },
  {
   "cell_type": "markdown",
   "metadata": {},
   "source": [
    "#### Dataloader test"
   ]
  },
  {
   "cell_type": "code",
   "execution_count": 11,
   "metadata": {},
   "outputs": [
    {
     "name": "stdout",
     "output_type": "stream",
     "text": [
      "Top-level keys: ['#refs#', 'channel_matrix', 'config']\n",
      "channel_matrix dataset shape: (256, 2, 18, 8, 3000)\n",
      "channel_matrix dataset dtype: [('real', '<f8'), ('imag', '<f8')]\n",
      "channel_matrix shape: (256, 2, 18, 8, 3000)\n",
      "Channel matrix real data (256, 2, 18, 8, 3000)\n",
      "Channel matrix imag data (256, 2, 18, 8, 3000)\n",
      "channel_matrix dtype: complex128\n",
      "Dataset created with 767744 samples\n",
      "Number of users: 256\n",
      "Time samples per user: 3000\n"
     ]
    }
   ],
   "source": [
    "def test_channel_dataset():\n",
    "    import h5py\n",
    "    import numpy as np\n",
    "    import matplotlib.pyplot as plt\n",
    "    from dataloader import ChannelDataset\n",
    "\n",
    "    filename = '/Users/muahmed/Desktop/Globecom 2025/nas-wireless/dataset/outputs/umi_compact_conf_8tx_2rx.mat'\n",
    "    with h5py.File(filename, \"r\") as f:\n",
    "        print(\"Top-level keys:\", list(f.keys()))\n",
    "        ds = f[\"channel_matrix\"]\n",
    "        print(\"channel_matrix dataset shape:\", ds.shape)\n",
    "        print(\"channel_matrix dataset dtype:\", ds.dtype)\n",
    "\n",
    "        # Check if dataset has compound dtype (typical for MATLAB complex arrays)\n",
    "        if ds.dtype.fields is not None and \"real\" in ds.dtype.fields and \"imag\" in ds.dtype.fields:\n",
    "            arr = ds[...]\n",
    "            real_data = arr[\"real\"]\n",
    "            imag_data = arr[\"imag\"]\n",
    "            channel_matrix = real_data + 1j * imag_data\n",
    "        else:\n",
    "            # If it's not a compound dataset with 'real'/'imag', try direct conversion\n",
    "            # (will fail if dtype=void or structured differently)\n",
    "            channel_matrix = np.array(ds)\n",
    "            if np.issubdtype(channel_matrix.dtype, np.void):\n",
    "                raise TypeError(\"channel_matrix has a void/structured dtype and cannot be directly converted.\")\n",
    "\n",
    "    print(\"channel_matrix shape:\", channel_matrix.shape)\n",
    "    print(\"Channel matrix real data\", real_data.shape) \n",
    "    print(\"Channel matrix imag data\", imag_data.shape)\n",
    "    print(\"channel_matrix dtype:\", channel_matrix.dtype)\n",
    "    dataset = ChannelDataset(channel_matrix)\n",
    "    print(f\"Dataset created with {len(dataset)} samples\")\n",
    "    print(f\"Number of users: {dataset.num_users}\")\n",
    "    print(f\"Time samples per user: {dataset.time_length}\")\n",
    "\n",
    "\n",
    "    return dataset\n",
    "\n",
    "if __name__ == \"__main__\":\n",
    "    test_channel_dataset()\n"
   ]
  },
  {
   "cell_type": "code",
   "execution_count": 4,
   "metadata": {},
   "outputs": [
    {
     "name": "stdout",
     "output_type": "stream",
     "text": [
      "Channel Matrix Shape: (256, 2, 18, 8, 3000)\n"
     ]
    }
   ],
   "source": [
    "import h5py\n",
    "import numpy as np\n",
    "\n",
    "# Define the file path\n",
    "filename = \"/Users/muahmed/Desktop/Globecom 2025/nas-wireless/dataset/outputs/umi_dense_conf_8tx_2rx.mat\"\n",
    "\n",
    "# Open the .mat file and extract the channel matrix\n",
    "with h5py.File(filename, \"r\") as f:\n",
    "    channel_group = f[\"channel_matrix\"]\n",
    "    real_data = np.array(channel_group[\"real\"])  # Extract real part\n",
    "    imag_data = np.array(channel_group[\"imag\"])  # Extract imaginary part\n",
    "    channel_matrix = real_data + 1j * imag_data  # Form complex matrix\n",
    "\n",
    "# Print the shape to confirm\n",
    "print(\"Channel Matrix Shape:\", channel_matrix.shape)\n",
    "\n",
    "# Save the NumPy array to a .npy file\n",
    "np.save(\"umi_dense_conf_8tx_2rx.mat\", channel_matrix)\n",
    "\n",
    "\n"
   ]
  },
  {
   "cell_type": "code",
   "execution_count": null,
   "metadata": {},
   "outputs": [
    {
     "name": "stdout",
     "output_type": "stream",
     "text": [
      "Loaded Channel Matrix Shape: (256, 2, 18, 16, 3000)\n"
     ]
    }
   ],
   "source": [
    "# Load it back to verify\n",
    "loaded_channel_matrix = np.load(\"/Users/muahmed/Desktop/Globecom 2025/nas-wireless/baseline models/umi_compact_conf_8tx_2rx.mat.npy\")\n",
    "print(\"Loaded Channel Matrix Shape:\", loaded_channel_matrix.shape)"
   ]
  },
  {
   "cell_type": "code",
   "execution_count": null,
   "metadata": {},
   "outputs": [],
   "source": []
  }
 ],
 "metadata": {
  "kernelspec": {
   "display_name": ".venv",
   "language": "python",
   "name": "python3"
  },
  "language_info": {
   "codemirror_mode": {
    "name": "ipython",
    "version": 3
   },
   "file_extension": ".py",
   "mimetype": "text/x-python",
   "name": "python",
   "nbconvert_exporter": "python",
   "pygments_lexer": "ipython3",
   "version": "3.12.9"
  }
 },
 "nbformat": 4,
 "nbformat_minor": 2
}
